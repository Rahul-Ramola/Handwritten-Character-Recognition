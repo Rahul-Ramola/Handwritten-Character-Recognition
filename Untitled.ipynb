{
 "cells": [
  {
   "cell_type": "code",
   "execution_count": 1,
   "id": "b4293512-234e-497d-9f07-540f0602e6b7",
   "metadata": {},
   "outputs": [],
   "source": [
    "import tkinter as tk\n",
    "from tkinter import Canvas\n",
    "import numpy as np\n",
    "from PIL import ImageGrab\n",
    "import cv2\n",
    "from tensorflow.keras.models import load_model"
   ]
  },
  {
   "cell_type": "code",
   "execution_count": 2,
   "id": "db964921-b2d1-4e89-80de-0555ec2a6770",
   "metadata": {},
   "outputs": [
    {
     "name": "stderr",
     "output_type": "stream",
     "text": [
      "WARNING:absl:Compiled the loaded model, but the compiled metrics have yet to be built. `model.compile_metrics` will be empty until you train or evaluate the model.\n"
     ]
    }
   ],
   "source": [
    "model = load_model('handwritten_character_recog_model.h5')\n",
    "words = {0: 'A', 1: 'B', 2: 'C', 3: 'D', 4: 'E', 5: 'F', 6: 'G', 7: 'H', 8: 'I', 9: 'J',\n",
    "         10: 'K', 11: 'L', 12: 'M', 13: 'N', 14: 'O', 15: 'P', 16: 'Q', 17: 'R', 18: 'S',\n",
    "         19: 'T', 20: 'U', 21: 'V', 22: 'W', 23: 'X', 24: 'Y', 25: 'Z'}"
   ]
  },
  {
   "cell_type": "code",
   "execution_count": 6,
   "id": "3640632c-6fde-48ea-9232-a27fb34f7e93",
   "metadata": {},
   "outputs": [
    {
     "name": "stdout",
     "output_type": "stream",
     "text": [
      "\u001b[1m1/1\u001b[0m \u001b[32m━━━━━━━━━━━━━━━━━━━━\u001b[0m\u001b[37m\u001b[0m \u001b[1m0s\u001b[0m 69ms/step\n",
      "\u001b[1m1/1\u001b[0m \u001b[32m━━━━━━━━━━━━━━━━━━━━\u001b[0m\u001b[37m\u001b[0m \u001b[1m0s\u001b[0m 78ms/step\n",
      "\u001b[1m1/1\u001b[0m \u001b[32m━━━━━━━━━━━━━━━━━━━━\u001b[0m\u001b[37m\u001b[0m \u001b[1m0s\u001b[0m 85ms/step\n"
     ]
    }
   ],
   "source": [
    "class HandwritingRecognitionApp:\n",
    "    def __init__(self, root):\n",
    "        self.root = root\n",
    "        self.root.title(\"Handwritten Word Recognition\")\n",
    "        self.canvas = Canvas(self.root, width=400, height=200, bg=\"black\")\n",
    "        self.canvas.pack()\n",
    "\n",
    "        self.label = tk.Label(self.root, text=\"Draw a word and click 'Predict'\", font=(\"Helvetica\", 14))\n",
    "        self.label.pack()\n",
    "\n",
    "        self.predict_button = tk.Button(self.root, text=\"Predict\", command=self.predict_word)\n",
    "        self.predict_button.pack()\n",
    "\n",
    "        self.clear_button = tk.Button(self.root, text=\"Clear\", command=self.clear_canvas)\n",
    "        self.clear_button.pack()\n",
    "\n",
    "        self.result_label = tk.Label(self.root, text=\"\", font=(\"Helvetica\", 16), fg=\"green\")\n",
    "        self.result_label.pack()\n",
    "\n",
    "        self.canvas.bind(\"<B1-Motion>\", self.paint)\n",
    "\n",
    "    def paint(self, event):\n",
    "        x1, y1 = (event.x - 5), (event.y - 5)\n",
    "        x2, y2 = (event.x + 5), (event.y + 5)\n",
    "        self.canvas.create_oval(x1, y1, x2, y2, fill=\"white\", outline=\"black\")\n",
    "\n",
    "    def clear_canvas(self):\n",
    "        self.canvas.delete(\"all\")\n",
    "        self.result_label.config(text=\"\")\n",
    "\n",
    "    def predict_word(self):\n",
    "        # Grab the canvas content as an image\n",
    "        x = self.root.winfo_rootx() + self.canvas.winfo_x()\n",
    "        y = self.root.winfo_rooty() + self.canvas.winfo_y()\n",
    "        x1 = x + self.canvas.winfo_width()\n",
    "        y1 = y + self.canvas.winfo_height()\n",
    "\n",
    "        # Capture the canvas image\n",
    "        image = ImageGrab.grab(bbox=(x, y, x1, y1))\n",
    "        image = image.convert('L')  # Convert to grayscale\n",
    "        image = np.array(image)\n",
    "\n",
    "        # Process the image\n",
    "        contours, _ = cv2.findContours(image, cv2.RETR_EXTERNAL, cv2.CHAIN_APPROX_SIMPLE)\n",
    "        word = \"\"\n",
    "        for contour in contours:\n",
    "            x, y, w, h = cv2.boundingRect(contour)\n",
    "            char = image[y:y+h, x:x+w]\n",
    "\n",
    "            # Resize to 28x28 and normalize\n",
    "            char = cv2.resize(char, (28, 28))\n",
    "            char = char.astype('float32') / 255.0\n",
    "            char = np.expand_dims(char, axis=-1)\n",
    "            char = np.expand_dims(char, axis=0)\n",
    "\n",
    "            # Predict the character\n",
    "            prediction = np.argmax(model.predict(char))\n",
    "            word += words[prediction]\n",
    "\n",
    "        # Display the result\n",
    "        self.result_label.config(text=f\"Predicted Word: {word[::-1]}\")  # Reverse because contours are right-to-left\n",
    "\n",
    "\n",
    "# Run the application\n",
    "root = tk.Tk()\n",
    "app = HandwritingRecognitionApp(root)\n",
    "root.mainloop()"
   ]
  },
  {
   "cell_type": "code",
   "execution_count": null,
   "id": "df978a9b-8c47-4bd8-91e4-762c8456d8ab",
   "metadata": {},
   "outputs": [],
   "source": []
  }
 ],
 "metadata": {
  "kernelspec": {
   "display_name": "Python 3 (ipykernel)",
   "language": "python",
   "name": "python3"
  },
  "language_info": {
   "codemirror_mode": {
    "name": "ipython",
    "version": 3
   },
   "file_extension": ".py",
   "mimetype": "text/x-python",
   "name": "python",
   "nbconvert_exporter": "python",
   "pygments_lexer": "ipython3",
   "version": "3.12.5"
  }
 },
 "nbformat": 4,
 "nbformat_minor": 5
}
